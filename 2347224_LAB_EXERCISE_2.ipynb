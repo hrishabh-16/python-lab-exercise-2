{
 "cells": [
  {
   "cell_type": "code",
   "execution_count": null,
   "metadata": {},
   "outputs": [],
   "source": [
    "#Write a program to swap the first and last elements in a list.\n",
    "\n",
    "def swap(list):\n",
    "    if len(list) >= 2:\n",
    "        first_element = list[0]\n",
    "        last_element = list[-1]\n",
    "        \n",
    "        list[0] = last_element\n",
    "        list[-1] = first_element\n",
    "\n",
    "my_list = [13,34,56,58,98, 32, 33, 54, 45]\n",
    "print(\"Original list:\", my_list)\n",
    "swap(my_list)\n",
    "print(\"List after swapping:\", my_list)\n",
    "print(\"\\n\")"
   ]
  },
  {
   "cell_type": "code",
   "execution_count": null,
   "metadata": {},
   "outputs": [],
   "source": [
    "#Write a program in python to find the sum of the digits in a list.\n",
    "def sum_of_digits(num):\n",
    "    total = 0\n",
    "    while num > 0:\n",
    "        digit = num % 10\n",
    "        total += digit\n",
    "        num //= 10\n",
    "    return total\n",
    "\n",
    "def sum_of_digits_in_list(lst):\n",
    "    total_sum = 0\n",
    "    for num in lst:\n",
    "        total_sum += sum_of_digits(num)\n",
    "    return total_sum\n",
    "\n",
    "numbers = [1234, 4567, 7890, 2222]\n",
    "result = sum_of_digits_in_list(numbers)\n",
    "print(\"Sum of digits in the list:\", result)\n",
    "\n",
    "\n",
    "print(\"\\n\")"
   ]
  },
  {
   "cell_type": "code",
   "execution_count": null,
   "metadata": {},
   "outputs": [],
   "source": [
    "#Write a program in python to find the smallest element in a list.\n",
    "def find_smallest_element(list1):\n",
    "  \n",
    "\n",
    "  smallest_element = list1[0]\n",
    "  for element in list1:\n",
    "    if element < smallest_element:\n",
    "      smallest_element = element\n",
    "  return smallest_element\n",
    "\n",
    "\n",
    "list1 = [10, 4, 2, 9, 7, 5, 3, 8, 6]\n",
    "smallest_element = find_smallest_element(list1)\n",
    "print(\"The smallest element in the list is\", smallest_element)\n",
    "\n",
    "\n",
    "print(\"\\n\")"
   ]
  },
  {
   "cell_type": "code",
   "execution_count": null,
   "metadata": {},
   "outputs": [],
   "source": [
    "#Sort the dictionaries in ascending order based on the Key of the dictionary.\n",
    "my_dict = {'lion': 12, 'tiger': 13, 'parrot': 30, 'leopord': 18, 'monkey': 22}\n",
    "\n",
    "# Sorting the dictionary in descending order of values using a lambda function\n",
    "sorted_dict = dict(sorted(my_dict.items(), key=lambda item: item[1], reverse=True))\n",
    "\n",
    "for key, value in sorted_dict.items():\n",
    "    print(f'{key}: {value}')"
   ]
  }
 ],
 "metadata": {
  "kernelspec": {
   "display_name": "Python 3",
   "language": "python",
   "name": "python3"
  },
  "language_info": {
   "codemirror_mode": {
    "name": "ipython",
    "version": 3
   },
   "file_extension": ".py",
   "mimetype": "text/x-python",
   "name": "python",
   "nbconvert_exporter": "python",
   "pygments_lexer": "ipython3",
   "version": "3.11.4"
  },
  "orig_nbformat": 4
 },
 "nbformat": 4,
 "nbformat_minor": 2
}
